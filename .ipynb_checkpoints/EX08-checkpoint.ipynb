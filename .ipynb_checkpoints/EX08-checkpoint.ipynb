{
 "cells": [
  {
   "cell_type": "code",
   "execution_count": null,
   "id": "d5b7f23f",
   "metadata": {},
   "outputs": [],
   "source": [
    "# Read image and convert it to grayscale image\n",
    "import numpy as np\n",
    "import matplotlib.pyplot as plt\n",
    "import cv2\n",
    "image = cv2.imread(\"img.jpg\",0)\n",
    "img = cv2.GaussianBlur(image,(3,3),0)\n",
    "plt.axis('off')\n",
    "plt.imshow(img)\n",
    "plt.show()"
   ]
  },
  {
   "cell_type": "code",
   "execution_count": null,
   "id": "4ffb35ee",
   "metadata": {},
   "outputs": [],
   "source": [
    "# Find the edges in the image using canny detector and display\n",
    "edge = cv2.Canny(img,100,200)\n",
    "plt.imshow(edge,cmap='gray')\n",
    "plt.title('Edge Image')\n",
    "plt.xticks([])\n",
    "plt.yticks([])\n",
    "plt.show()"
   ]
  },
  {
   "cell_type": "code",
   "execution_count": null,
   "id": "c92ed0bf",
   "metadata": {},
   "outputs": [],
   "source": [
    "# Detect points that form a line using HoughLinesP\n",
    "lines=cv2.HoughLinesP(edge,1,np.pi/180, threshold=80, minLineLength=50,maxLineGap=250)"
   ]
  },
  {
   "cell_type": "code",
   "execution_count": null,
   "id": "fc2afc2d",
   "metadata": {},
   "outputs": [],
   "source": [
    "# Draw lines on the image\n",
    "for line in lines:\n",
    "    x1,y1,x2,y2 = line[0]\n",
    "    cv2.line(edge,(x1,y1),(x2,y2),(255,0,0),3)"
   ]
  },
  {
   "cell_type": "code",
   "execution_count": null,
   "id": "03caaae0",
   "metadata": {},
   "outputs": [],
   "source": [
    "# Display the result\n",
    "plt.imshow(edge)\n",
    "plt.axis('off')\n",
    "plt.show()"
   ]
  }
 ],
 "metadata": {
  "kernelspec": {
   "display_name": "Python 3",
   "language": "python",
   "name": "python3"
  },
  "language_info": {
   "codemirror_mode": {
    "name": "ipython",
    "version": 3
   },
   "file_extension": ".py",
   "mimetype": "text/x-python",
   "name": "python",
   "nbconvert_exporter": "python",
   "pygments_lexer": "ipython3",
   "version": "3.8.8"
  }
 },
 "nbformat": 4,
 "nbformat_minor": 5
}
